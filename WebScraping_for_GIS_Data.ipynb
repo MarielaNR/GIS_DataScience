{
  "nbformat": 4,
  "nbformat_minor": 0,
  "metadata": {
    "colab": {
      "name": "WebScraping_for_GIS_Data.ipynb",
      "provenance": [],
      "collapsed_sections": [],
      "authorship_tag": "ABX9TyMGeUdOchiYQ2ksAKGE8beZ",
      "include_colab_link": true
    },
    "kernelspec": {
      "name": "python3",
      "display_name": "Python 3"
    }
  },
  "cells": [
    {
      "cell_type": "markdown",
      "metadata": {
        "id": "view-in-github",
        "colab_type": "text"
      },
      "source": [
        "<a href=\"https://colab.research.google.com/github/MarielaNR/GIS_DataScience/blob/master/WebScraping_for_GIS_Data.ipynb\" target=\"_parent\"><img src=\"https://colab.research.google.com/assets/colab-badge.svg\" alt=\"Open In Colab\"/></a>"
      ]
    },
    {
      "cell_type": "markdown",
      "metadata": {
        "id": "VwSJtEZwTwIO",
        "colab_type": "text"
      },
      "source": [
        "**WEB SCRAPING GOOGLE MAP DATA FOR PROXIMITY ANALYSIS**\n"
      ]
    },
    {
      "cell_type": "markdown",
      "metadata": {
        "id": "FgvvN29kUZ2f",
        "colab_type": "text"
      },
      "source": [
        "There is a lot of data in google map that you could use when you want to know what stores or places are close to an especific location. In this case, the interest is to find the farmacies that are close to three different locations (for funny/didactic reasons, we will call them \"happy\", \"go\" and \"lucky\"). You could do this manually, but what if you whant to generate your own dataset with the name, coordinates (longitude - latitude), distance of each pharmacy? Here is when Web Scraping google map data comes to your rescue."
      ]
    },
    {
      "cell_type": "markdown",
      "metadata": {
        "id": "PY7MC681g-2-",
        "colab_type": "text"
      },
      "source": [
        "**--STEP ONE--**"
      ]
    },
    {
      "cell_type": "markdown",
      "metadata": {
        "id": "CD9LDah0f39l",
        "colab_type": "text"
      },
      "source": [
        "***Your friends for the battle: Google Colab, Python and its libraries***"
      ]
    },
    {
      "cell_type": "markdown",
      "metadata": {
        "id": "3mGa6bUghZL7",
        "colab_type": "text"
      },
      "source": [
        "Your computer doesn't have too much RAM, you have problems installing Python environment tools or you are just too excited to waste one more minute to follow this tutorial...then Google Colab is the answer. For using it, you just need your web navigator (and internet, of course). We will use Python (a very loved language, even by my grandmother) and the libraries Pandas, NumPy, requests, json, time."
      ]
    },
    {
      "cell_type": "code",
      "metadata": {
        "id": "Wclvzo65TtUd",
        "colab_type": "code",
        "colab": {}
      },
      "source": [
        "# Importing libraries\n",
        "import pandas as pd\n",
        "import numpy as np\n",
        "import requests\n",
        "import json\n",
        "from google.colab import files"
      ],
      "execution_count": 0,
      "outputs": []
    }
  ]
}