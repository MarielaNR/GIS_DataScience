{
  "nbformat": 4,
  "nbformat_minor": 0,
  "metadata": {
    "colab": {
      "name": "WebScraping_for_GIS_Data.ipynb",
      "provenance": [],
      "authorship_tag": "ABX9TyPn3m/E+WRrl4ppc6Lmd2JX",
      "include_colab_link": true
    },
    "kernelspec": {
      "name": "python3",
      "display_name": "Python 3"
    }
  },
  "cells": [
    {
      "cell_type": "markdown",
      "metadata": {
        "id": "view-in-github",
        "colab_type": "text"
      },
      "source": [
        "<a href=\"https://colab.research.google.com/github/MarielaNR/GIS_DataScience/blob/master/WebScraping_for_GIS_Data.ipynb\" target=\"_parent\"><img src=\"https://colab.research.google.com/assets/colab-badge.svg\" alt=\"Open In Colab\"/></a>"
      ]
    },
    {
      "cell_type": "markdown",
      "metadata": {
        "id": "VwSJtEZwTwIO",
        "colab_type": "text"
      },
      "source": [
        "**WEB SCRAPING GOOGLE MAP DATA FOR PROXIMITY ANALYSIS**\n"
      ]
    },
    {
      "cell_type": "markdown",
      "metadata": {
        "id": "FgvvN29kUZ2f",
        "colab_type": "text"
      },
      "source": [
        "There is a lot of data in google map that you could use when you want to know was stores or places are close to an especific location. In this case, the interest is finding the farmacies that are close to three different locations. You could do this manually, but what if you whant to generate your own dataset with the name, coordinates and distance from the point "
      ]
    },
    {
      "cell_type": "code",
      "metadata": {
        "id": "Wclvzo65TtUd",
        "colab_type": "code",
        "colab": {}
      },
      "source": [
        ""
      ],
      "execution_count": 0,
      "outputs": []
    },
    {
      "cell_type": "code",
      "metadata": {
        "id": "dqUCjmNCT1pm",
        "colab_type": "code",
        "colab": {}
      },
      "source": [
        ""
      ],
      "execution_count": 0,
      "outputs": []
    }
  ]
}